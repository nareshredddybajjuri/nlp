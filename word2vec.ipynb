{
 "cells": [
  {
   "cell_type": "code",
   "execution_count": 1,
   "id": "f14463f2-da03-4cf6-8480-cbaaa97c40f2",
   "metadata": {},
   "outputs": [],
   "source": [
    "import nltk\n",
    "from gensim.models import Word2Vec\n",
    "from nltk.corpus import stopwords"
   ]
  },
  {
   "cell_type": "code",
   "execution_count": 2,
   "id": "488efc45-f2c0-437f-8a36-127e607ad112",
   "metadata": {},
   "outputs": [],
   "source": [
    "import re"
   ]
  },
  {
   "cell_type": "code",
   "execution_count": 3,
   "id": "dbf926e4-93f8-4cc0-8c34-0817f06c3649",
   "metadata": {},
   "outputs": [],
   "source": [
    "paragraph = \"\"\"I have three visions for India. In 3000 years of our history, people from all over \n",
    "               the world have come and invaded us, captured our lands, conquered our minds. \n",
    "               From Alexander onwards, the Greeks, the Turks, the Moguls, the Portuguese, the British,\n",
    "               the French, the Dutch, all of them came and looted us, took over what was ours. \n",
    "               Yet we have not done this to any other nation. We have not conquered anyone. \n",
    "               We have not grabbed their land, their culture, \n",
    "               their history and tried to enforce our way of life on them. \n",
    "               Why? Because we respect the freedom of others.That is why my \n",
    "               first vision is that of freedom. I believe that India got its first vision of \n",
    "               this in 1857, when we started the War of Independence. It is this freedom that\n",
    "               we must protect and nurture and build on. If we are not free, no one will respect us.\n",
    "               My second vision for India’s development. For fifty years we have been a developing nation.\n",
    "               It is time we see ourselves as a developed nation. We are among the top 5 nations of the world\n",
    "               in terms of GDP. We have a 10 percent growth rate in most areas. Our poverty levels are falling.\n",
    "               Our achievements are being globally recognised today. Yet we lack the self-confidence to\n",
    "               see ourselves as a developed nation, self-reliant and self-assured. Isn’t this incorrect?\n",
    "               I have a third vision. India must stand up to the world. Because I believe that unless India \n",
    "               stands up to the world, no one will respect us. Only strength respects strength. We must be \n",
    "               strong not only as a military power but also as an economic power. Both must go hand-in-hand. \n",
    "               My good fortune was to have worked with three great minds. Dr. Vikram Sarabhai of the Dept. of \n",
    "               space, Professor Satish Dhawan, who succeeded him and Dr. Brahm Prakash, father of nuclear material.\n",
    "               I was lucky to have worked with all three of them closely and consider this the great opportunity of my life. \n",
    "               I see four milestones in my career\"\"\""
   ]
  },
  {
   "cell_type": "code",
   "execution_count": 4,
   "id": "2b7b3b31-26c1-4879-9611-a91b67f1a3b9",
   "metadata": {},
   "outputs": [],
   "source": [
    "text = re.sub(r'\\[[0-9]*\\]',' ',paragraph)\n",
    "text = re.sub(r'\\s+',' ',text)\n",
    "text = text.lower()\n",
    "text = re.sub(r'\\d',' ',text)\n",
    "text = re.sub(r'\\s+',' ',text)"
   ]
  },
  {
   "cell_type": "code",
   "execution_count": 5,
   "id": "b06b33b0-a01d-4450-a377-8012119ec615",
   "metadata": {},
   "outputs": [
    {
     "name": "stdout",
     "output_type": "stream",
     "text": [
      "i have three visions for india. in years of our history, people from all over the world have come and invaded us, captured our lands, conquered our minds. from alexander onwards, the greeks, the turks, the moguls, the portuguese, the british, the french, the dutch, all of them came and looted us, took over what was ours. yet we have not done this to any other nation. we have not conquered anyone. we have not grabbed their land, their culture, their history and tried to enforce our way of life on them. why? because we respect the freedom of others.that is why my first vision is that of freedom. i believe that india got its first vision of this in , when we started the war of independence. it is this freedom that we must protect and nurture and build on. if we are not free, no one will respect us. my second vision for india’s development. for fifty years we have been a developing nation. it is time we see ourselves as a developed nation. we are among the top nations of the world in terms of gdp. we have a percent growth rate in most areas. our poverty levels are falling. our achievements are being globally recognised today. yet we lack the self-confidence to see ourselves as a developed nation, self-reliant and self-assured. isn’t this incorrect? i have a third vision. india must stand up to the world. because i believe that unless india stands up to the world, no one will respect us. only strength respects strength. we must be strong not only as a military power but also as an economic power. both must go hand-in-hand. my good fortune was to have worked with three great minds. dr. vikram sarabhai of the dept. of space, professor satish dhawan, who succeeded him and dr. brahm prakash, father of nuclear material. i was lucky to have worked with all three of them closely and consider this the great opportunity of my life. i see four milestones in my career\n"
     ]
    }
   ],
   "source": [
    "print(text)"
   ]
  },
  {
   "cell_type": "code",
   "execution_count": 7,
   "id": "3438705b-9355-489b-9652-b59dc98377c9",
   "metadata": {},
   "outputs": [],
   "source": [
    "sentences = nltk.sent_tokenize(text)"
   ]
  },
  {
   "cell_type": "code",
   "execution_count": 9,
   "id": "4bfffaf5-da79-4790-b61b-cc12010b8dd3",
   "metadata": {},
   "outputs": [
    {
     "name": "stdout",
     "output_type": "stream",
     "text": [
      "i have three visions for india.\n",
      "in years of our history, people from all over the world have come and invaded us, captured our lands, conquered our minds.\n",
      "from alexander onwards, the greeks, the turks, the moguls, the portuguese, the british, the french, the dutch, all of them came and looted us, took over what was ours.\n",
      "yet we have not done this to any other nation.\n",
      "we have not conquered anyone.\n",
      "we have not grabbed their land, their culture, their history and tried to enforce our way of life on them.\n",
      "why?\n",
      "because we respect the freedom of others.that is why my first vision is that of freedom.\n",
      "i believe that india got its first vision of this in , when we started the war of independence.\n",
      "it is this freedom that we must protect and nurture and build on.\n",
      "if we are not free, no one will respect us.\n",
      "my second vision for india’s development.\n",
      "for fifty years we have been a developing nation.\n",
      "it is time we see ourselves as a developed nation.\n",
      "we are among the top nations of the world in terms of gdp.\n",
      "we have a percent growth rate in most areas.\n",
      "our poverty levels are falling.\n",
      "our achievements are being globally recognised today.\n",
      "yet we lack the self-confidence to see ourselves as a developed nation, self-reliant and self-assured.\n",
      "isn’t this incorrect?\n",
      "i have a third vision.\n",
      "india must stand up to the world.\n",
      "because i believe that unless india stands up to the world, no one will respect us.\n",
      "only strength respects strength.\n",
      "we must be strong not only as a military power but also as an economic power.\n",
      "both must go hand-in-hand.\n",
      "my good fortune was to have worked with three great minds.\n",
      "dr. vikram sarabhai of the dept.\n",
      "of space, professor satish dhawan, who succeeded him and dr. brahm prakash, father of nuclear material.\n",
      "i was lucky to have worked with all three of them closely and consider this the great opportunity of my life.\n",
      "i see four milestones in my career\n"
     ]
    }
   ],
   "source": [
    "for sentence in sentences:\n",
    "    print(sentence)"
   ]
  },
  {
   "cell_type": "code",
   "execution_count": 10,
   "id": "add476f0-1926-4092-a68d-b27db5dfc645",
   "metadata": {},
   "outputs": [],
   "source": [
    "sentences = [nltk.word_tokenize(sentence) for sentence in sentences]"
   ]
  },
  {
   "cell_type": "code",
   "execution_count": 11,
   "id": "150231e2-2daf-4212-94ec-1734190048b7",
   "metadata": {},
   "outputs": [
    {
     "name": "stdout",
     "output_type": "stream",
     "text": [
      "['i', 'have', 'three', 'visions', 'for', 'india', '.']\n",
      "['in', 'years', 'of', 'our', 'history', ',', 'people', 'from', 'all', 'over', 'the', 'world', 'have', 'come', 'and', 'invaded', 'us', ',', 'captured', 'our', 'lands', ',', 'conquered', 'our', 'minds', '.']\n",
      "['from', 'alexander', 'onwards', ',', 'the', 'greeks', ',', 'the', 'turks', ',', 'the', 'moguls', ',', 'the', 'portuguese', ',', 'the', 'british', ',', 'the', 'french', ',', 'the', 'dutch', ',', 'all', 'of', 'them', 'came', 'and', 'looted', 'us', ',', 'took', 'over', 'what', 'was', 'ours', '.']\n",
      "['yet', 'we', 'have', 'not', 'done', 'this', 'to', 'any', 'other', 'nation', '.']\n",
      "['we', 'have', 'not', 'conquered', 'anyone', '.']\n",
      "['we', 'have', 'not', 'grabbed', 'their', 'land', ',', 'their', 'culture', ',', 'their', 'history', 'and', 'tried', 'to', 'enforce', 'our', 'way', 'of', 'life', 'on', 'them', '.']\n",
      "['why', '?']\n",
      "['because', 'we', 'respect', 'the', 'freedom', 'of', 'others.that', 'is', 'why', 'my', 'first', 'vision', 'is', 'that', 'of', 'freedom', '.']\n",
      "['i', 'believe', 'that', 'india', 'got', 'its', 'first', 'vision', 'of', 'this', 'in', ',', 'when', 'we', 'started', 'the', 'war', 'of', 'independence', '.']\n",
      "['it', 'is', 'this', 'freedom', 'that', 'we', 'must', 'protect', 'and', 'nurture', 'and', 'build', 'on', '.']\n",
      "['if', 'we', 'are', 'not', 'free', ',', 'no', 'one', 'will', 'respect', 'us', '.']\n",
      "['my', 'second', 'vision', 'for', 'india', '’', 's', 'development', '.']\n",
      "['for', 'fifty', 'years', 'we', 'have', 'been', 'a', 'developing', 'nation', '.']\n",
      "['it', 'is', 'time', 'we', 'see', 'ourselves', 'as', 'a', 'developed', 'nation', '.']\n",
      "['we', 'are', 'among', 'the', 'top', 'nations', 'of', 'the', 'world', 'in', 'terms', 'of', 'gdp', '.']\n",
      "['we', 'have', 'a', 'percent', 'growth', 'rate', 'in', 'most', 'areas', '.']\n",
      "['our', 'poverty', 'levels', 'are', 'falling', '.']\n",
      "['our', 'achievements', 'are', 'being', 'globally', 'recognised', 'today', '.']\n",
      "['yet', 'we', 'lack', 'the', 'self-confidence', 'to', 'see', 'ourselves', 'as', 'a', 'developed', 'nation', ',', 'self-reliant', 'and', 'self-assured', '.']\n",
      "['isn', '’', 't', 'this', 'incorrect', '?']\n",
      "['i', 'have', 'a', 'third', 'vision', '.']\n",
      "['india', 'must', 'stand', 'up', 'to', 'the', 'world', '.']\n",
      "['because', 'i', 'believe', 'that', 'unless', 'india', 'stands', 'up', 'to', 'the', 'world', ',', 'no', 'one', 'will', 'respect', 'us', '.']\n",
      "['only', 'strength', 'respects', 'strength', '.']\n",
      "['we', 'must', 'be', 'strong', 'not', 'only', 'as', 'a', 'military', 'power', 'but', 'also', 'as', 'an', 'economic', 'power', '.']\n",
      "['both', 'must', 'go', 'hand-in-hand', '.']\n",
      "['my', 'good', 'fortune', 'was', 'to', 'have', 'worked', 'with', 'three', 'great', 'minds', '.']\n",
      "['dr.', 'vikram', 'sarabhai', 'of', 'the', 'dept', '.']\n",
      "['of', 'space', ',', 'professor', 'satish', 'dhawan', ',', 'who', 'succeeded', 'him', 'and', 'dr.', 'brahm', 'prakash', ',', 'father', 'of', 'nuclear', 'material', '.']\n",
      "['i', 'was', 'lucky', 'to', 'have', 'worked', 'with', 'all', 'three', 'of', 'them', 'closely', 'and', 'consider', 'this', 'the', 'great', 'opportunity', 'of', 'my', 'life', '.']\n",
      "['i', 'see', 'four', 'milestones', 'in', 'my', 'career']\n"
     ]
    }
   ],
   "source": [
    "for sentence in sentences:\n",
    "    print(sentence)"
   ]
  },
  {
   "cell_type": "code",
   "execution_count": 15,
   "id": "f86654e6-99da-4b1f-9282-0d0b099b1836",
   "metadata": {},
   "outputs": [],
   "source": [
    "for i in range(len(sentences)):\n",
    "    sentences[i] = [word for word in sentences[i] if word not in stopwords.words('english')]"
   ]
  },
  {
   "cell_type": "code",
   "execution_count": 16,
   "id": "73ab8cb8-4ad3-42b4-914a-515cdbb7561c",
   "metadata": {},
   "outputs": [
    {
     "name": "stdout",
     "output_type": "stream",
     "text": [
      "[]\n",
      "['e', 'e']\n",
      "['f', 'u', 'r']\n",
      "['l', 'e', 'n', 'e']\n",
      "['n']\n",
      "[]\n",
      "['c', 'r', 'e', 'e', 'r']\n",
      "['respect', 'freedom', 'others.that', 'first', 'vision', 'freedom', '.']\n",
      "['believe', 'india', 'got', 'first', 'vision', ',', 'started', 'war', 'independence', '.']\n",
      "['freedom', 'must', 'protect', 'nurture', 'build', '.']\n",
      "['free', ',', 'one', 'respect', 'us', '.']\n",
      "['second', 'vision', 'india', '’', 'development', '.']\n",
      "['fifty', 'years', 'developing', 'nation', '.']\n",
      "['time', 'see', 'developed', 'nation', '.']\n",
      "['among', 'top', 'nations', 'world', 'terms', 'gdp', '.']\n",
      "['percent', 'growth', 'rate', 'areas', '.']\n",
      "['poverty', 'levels', 'falling', '.']\n",
      "['achievements', 'globally', 'recognised', 'today', '.']\n",
      "['yet', 'lack', 'self-confidence', 'see', 'developed', 'nation', ',', 'self-reliant', 'self-assured', '.']\n",
      "['’', 'incorrect', '?']\n",
      "['third', 'vision', '.']\n",
      "['india', 'must', 'stand', 'world', '.']\n",
      "['believe', 'unless', 'india', 'stands', 'world', ',', 'one', 'respect', 'us', '.']\n",
      "['strength', 'respects', 'strength', '.']\n",
      "['must', 'strong', 'military', 'power', 'also', 'economic', 'power', '.']\n",
      "['must', 'go', 'hand-in-hand', '.']\n",
      "['good', 'fortune', 'worked', 'three', 'great', 'minds', '.']\n",
      "['dr.', 'vikram', 'sarabhai', 'dept', '.']\n",
      "['space', ',', 'professor', 'satish', 'dhawan', ',', 'succeeded', 'dr.', 'brahm', 'prakash', ',', 'father', 'nuclear', 'material', '.']\n",
      "['lucky', 'worked', 'three', 'closely', 'consider', 'great', 'opportunity', 'life', '.']\n",
      "['see', 'four', 'milestones', 'career']\n"
     ]
    }
   ],
   "source": [
    "for sentence in sentences:\n",
    "    print(sentence)"
   ]
  },
  {
   "cell_type": "code",
   "execution_count": 17,
   "id": "4a86f711-d69e-43dc-b1cd-9f6c2d775c7e",
   "metadata": {},
   "outputs": [],
   "source": [
    "model = Word2Vec(sentences, min_count =1)"
   ]
  },
  {
   "cell_type": "code",
   "execution_count": 20,
   "id": "55ee3044-50de-405f-be92-9b166de86428",
   "metadata": {},
   "outputs": [],
   "source": [
    "words = list(model.wv.index_to_key)\n"
   ]
  },
  {
   "cell_type": "code",
   "execution_count": 21,
   "id": "e5ff9183-aea6-457a-929e-0677b5f54439",
   "metadata": {},
   "outputs": [
    {
     "name": "stdout",
     "output_type": "stream",
     "text": [
      ".\n",
      ",\n",
      "e\n",
      "vision\n",
      "india\n",
      "must\n",
      "nation\n",
      "respect\n",
      "freedom\n",
      "r\n",
      "world\n",
      "see\n",
      "one\n",
      "dr.\n",
      "developed\n",
      "us\n",
      "worked\n",
      "power\n",
      "’\n",
      "three\n",
      "great\n",
      "strength\n",
      "believe\n",
      "first\n",
      "n\n",
      "among\n",
      "top\n",
      "fifty\n",
      "terms\n",
      "time\n",
      "gdp\n",
      "percent\n",
      "growth\n",
      "developing\n",
      "rate\n",
      "years\n",
      "nations\n",
      "nurture\n",
      "development\n",
      "second\n",
      "free\n",
      "build\n",
      "poverty\n",
      "protect\n",
      "independence\n",
      "war\n",
      "started\n",
      "got\n",
      "others.that\n",
      "c\n",
      "l\n",
      "u\n",
      "f\n",
      "areas\n",
      "career\n",
      "levels\n",
      "brahm\n",
      "minds\n",
      "vikram\n",
      "sarabhai\n",
      "dept\n",
      "space\n",
      "professor\n",
      "satish\n",
      "dhawan\n",
      "succeeded\n",
      "prakash\n",
      "good\n",
      "father\n",
      "nuclear\n",
      "material\n",
      "lucky\n",
      "closely\n",
      "consider\n",
      "opportunity\n",
      "life\n",
      "four\n",
      "fortune\n",
      "hand-in-hand\n",
      "falling\n",
      "incorrect\n",
      "milestones\n",
      "globally\n",
      "recognised\n",
      "today\n",
      "yet\n",
      "lack\n",
      "self-confidence\n",
      "self-reliant\n",
      "self-assured\n",
      "?\n",
      "go\n",
      "third\n",
      "stand\n",
      "unless\n",
      "stands\n",
      "respects\n",
      "strong\n",
      "military\n",
      "also\n",
      "economic\n",
      "achievements\n"
     ]
    }
   ],
   "source": [
    "for word in words:\n",
    "    print(word)"
   ]
  },
  {
   "cell_type": "code",
   "execution_count": 22,
   "id": "dfc96b54-dfd9-40f1-91d1-98c6d9dcf847",
   "metadata": {},
   "outputs": [],
   "source": [
    "vector = model.wv['war']"
   ]
  },
  {
   "cell_type": "code",
   "execution_count": 23,
   "id": "0d884a94-4496-4ea7-8400-4dd4e8ba04e1",
   "metadata": {},
   "outputs": [
    {
     "name": "stdout",
     "output_type": "stream",
     "text": [
      "[ 7.9988530e-03  7.9157641e-03 -5.4270062e-03 -7.9728365e-03\n",
      "  8.0707269e-03 -3.8175851e-03 -4.0675784e-03  7.1901102e-03\n",
      "  5.4162694e-03  3.8147052e-03 -1.2359093e-03  8.6670835e-03\n",
      "  8.4577911e-03  6.9601648e-03  9.0730879e-03 -5.7779434e-03\n",
      "  1.0020192e-03 -1.6364658e-03  6.3349167e-03  9.7657880e-03\n",
      "  5.1827147e-03  4.0635341e-03  6.5439320e-03  5.8803074e-03\n",
      "  9.6936528e-05 -8.3382074e-03 -2.1833268e-03  9.0770787e-03\n",
      " -5.0758566e-03  1.0145499e-03  4.8751663e-03 -6.9319573e-03\n",
      "  8.2000075e-03  1.4641656e-03  2.4304066e-03  8.3191888e-03\n",
      "  1.4542841e-03  8.9252263e-04 -9.4272662e-03  9.8611871e-03\n",
      " -9.8659936e-03  8.5487403e-03  5.0556213e-03 -5.0470389e-05\n",
      " -7.8736264e-03  9.3334801e-03 -1.3825815e-03  5.3374902e-03\n",
      " -3.0262596e-03 -4.9041263e-03  1.7436143e-04 -8.0310982e-03\n",
      " -6.6522718e-03 -9.4546741e-03  5.3483387e-03  4.2934367e-04\n",
      " -9.0827869e-04  5.0948099e-03 -1.9696283e-03 -7.3862565e-03\n",
      "  2.8708284e-03 -5.9566260e-03  4.8564971e-04  9.4831651e-03\n",
      " -9.6189667e-04  6.1478429e-03  4.4653425e-03 -3.5234555e-03\n",
      " -5.2292007e-03  8.8522015e-03  2.0976847e-03 -4.5736547e-04\n",
      "  8.9739641e-04 -4.9136761e-03  3.5394945e-03 -3.1035894e-03\n",
      "  4.2132232e-03 -4.5555299e-03 -7.9202821e-04  3.9075026e-03\n",
      " -7.1572983e-03 -2.5132585e-03 -8.7228045e-03  1.5659335e-03\n",
      "  2.0037366e-03  2.4013605e-03  1.0814538e-03  1.0220976e-04\n",
      "  2.2123684e-03 -9.4911247e-04  5.9273825e-03 -2.9536372e-03\n",
      " -5.0801998e-03 -5.3303954e-03 -9.6505536e-03 -8.1154499e-03\n",
      "  2.1212308e-03  3.9838897e-03 -5.7838857e-03 -9.6885059e-03]\n"
     ]
    }
   ],
   "source": [
    "print(vector)"
   ]
  },
  {
   "cell_type": "code",
   "execution_count": 25,
   "id": "d950299e-19ba-49bb-98c6-614d8f4d99d6",
   "metadata": {},
   "outputs": [
    {
     "name": "stdout",
     "output_type": "stream",
     "text": [
      "[('others.that', 0.23621977865695953), ('years', 0.22285306453704834), ('free', 0.1857391595840454), ('rate', 0.17517821490764618), ('terms', 0.16320741176605225), ('dept', 0.15458302199840546), ('f', 0.1522151678800583), ('vision', 0.14983300864696503), ('second', 0.14546732604503632), ('incorrect', 0.14144499599933624)]\n"
     ]
    }
   ],
   "source": [
    "similar = model.wv.most_similar('war')\n",
    "print(similar)"
   ]
  },
  {
   "cell_type": "code",
   "execution_count": null,
   "id": "3c7c6f34-550e-4c0c-b346-585699db4565",
   "metadata": {},
   "outputs": [],
   "source": []
  }
 ],
 "metadata": {
  "kernelspec": {
   "display_name": "Python 3 (ipykernel)",
   "language": "python",
   "name": "python3"
  },
  "language_info": {
   "codemirror_mode": {
    "name": "ipython",
    "version": 3
   },
   "file_extension": ".py",
   "mimetype": "text/x-python",
   "name": "python",
   "nbconvert_exporter": "python",
   "pygments_lexer": "ipython3",
   "version": "3.11.5"
  }
 },
 "nbformat": 4,
 "nbformat_minor": 5
}
