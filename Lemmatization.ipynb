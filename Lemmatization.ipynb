{
 "cells": [
  {
   "cell_type": "code",
   "execution_count": 1,
   "id": "26ced80b-55a8-4971-8343-329b0a574681",
   "metadata": {},
   "outputs": [],
   "source": [
    "import nltk"
   ]
  },
  {
   "cell_type": "code",
   "execution_count": 2,
   "id": "843553ce-b9b3-4bfd-bd96-4901964127f5",
   "metadata": {},
   "outputs": [],
   "source": [
    "from nltk.stem import WordNetLemmatizer\n",
    "from nltk.corpus import stopwords"
   ]
  },
  {
   "cell_type": "code",
   "execution_count": 15,
   "id": "250f2b1a-0a54-484a-81f0-3e63d5044202",
   "metadata": {},
   "outputs": [],
   "source": [
    "paragraph = \"\"\"In a small, picturesque village nestled between towering mountains, the inhabitants led a tranquil life,\n",
    "            relying on farming and weaving for their livelihood. Every morning, the farmers would head to the fields,\n",
    "            tending to their crops with meticulous care, \n",
    "            while the weavers sat by their looms, crafting intricate patterns into fabrics that were admired far and wide. \n",
    "            Children played by the riverbank, their laughter echoing through the valley, \n",
    "            as the elderly shared tales of their youth under the shade of ancient oak trees. The seasons shaped their routines, with spring bringing a burst of colors and activity, \n",
    "            summer offering long days of work and warmth, autumn filling their granaries with the year's harvest, \n",
    "            and winter inviting them to gather by the hearth, exchanging stories and songs. \n",
    "            Despite the simplicity of their lives, the villagers felt a profound connection to the land and each other, \n",
    "            finding joy and fulfillment in their everyday tasks and the rhythms of nature.\"\"\""
   ]
  },
  {
   "cell_type": "code",
   "execution_count": 16,
   "id": "e6164c49-19de-462e-a10b-17efe9711c43",
   "metadata": {},
   "outputs": [],
   "source": [
    "sentences = nltk.sent_tokenize(paragraph)"
   ]
  },
  {
   "cell_type": "code",
   "execution_count": 17,
   "id": "cc5f8a6a-0f92-4693-91b6-27515c67ef8f",
   "metadata": {},
   "outputs": [
    {
     "name": "stdout",
     "output_type": "stream",
     "text": [
      "In a small, picturesque village nestled between towering mountains, the inhabitants led a tranquil life,\n",
      "            relying on farming and weaving for their livelihood.\n",
      "Every morning, the farmers would head to the fields,\n",
      "            tending to their crops with meticulous care, \n",
      "            while the weavers sat by their looms, crafting intricate patterns into fabrics that were admired far and wide.\n",
      "Children played by the riverbank, their laughter echoing through the valley, \n",
      "            as the elderly shared tales of their youth under the shade of ancient oak trees.\n",
      "The seasons shaped their routines, with spring bringing a burst of colors and activity, \n",
      "            summer offering long days of work and warmth, autumn filling their granaries with the year's harvest, \n",
      "            and winter inviting them to gather by the hearth, exchanging stories and songs.\n",
      "Despite the simplicity of their lives, the villagers felt a profound connection to the land and each other, \n",
      "            finding joy and fulfillment in their everyday tasks and the rhythms of nature.\n"
     ]
    }
   ],
   "source": [
    "for sentence in sentences:\n",
    "    print(sentence)"
   ]
  },
  {
   "cell_type": "code",
   "execution_count": 18,
   "id": "a0610610-263a-4569-bb3c-9e848f7e625a",
   "metadata": {},
   "outputs": [],
   "source": [
    "lemmatizer = WordNetLemmatizer()"
   ]
  },
  {
   "cell_type": "code",
   "execution_count": 19,
   "id": "ae0e4ca9-3c18-4d7e-a4b3-ce11e72c1f51",
   "metadata": {},
   "outputs": [],
   "source": [
    "for i in range (len(sentences)):\n",
    "    words = nltk.word_tokenize(sentences[i])\n",
    "    words = [lemmatizer.lemmatize(word) for word in words if word not in set(stopwords.words('english'))]\n",
    "    sentences[i] = ' '.join(words)"
   ]
  },
  {
   "cell_type": "code",
   "execution_count": 20,
   "id": "9886a550-5b13-436e-ae94-959b2e3cc775",
   "metadata": {},
   "outputs": [
    {
     "name": "stdout",
     "output_type": "stream",
     "text": [
      "In small , picturesque village nestled towering mountain , inhabitant led tranquil life , relying farming weaving livelihood .\n",
      "Every morning , farmer would head field , tending crop meticulous care , weaver sat loom , crafting intricate pattern fabric admired far wide .\n",
      "Children played riverbank , laughter echoing valley , elderly shared tale youth shade ancient oak tree .\n",
      "The season shaped routine , spring bringing burst color activity , summer offering long day work warmth , autumn filling granary year 's harvest , winter inviting gather hearth , exchanging story song .\n",
      "Despite simplicity life , villager felt profound connection land , finding joy fulfillment everyday task rhythm nature .\n"
     ]
    }
   ],
   "source": [
    "for sentence in sentences:\n",
    "    print(sentence)"
   ]
  },
  {
   "cell_type": "code",
   "execution_count": null,
   "id": "fa137efd-80fa-46ac-891b-8e434fb76cc6",
   "metadata": {},
   "outputs": [],
   "source": []
  }
 ],
 "metadata": {
  "kernelspec": {
   "display_name": "Python 3 (ipykernel)",
   "language": "python",
   "name": "python3"
  },
  "language_info": {
   "codemirror_mode": {
    "name": "ipython",
    "version": 3
   },
   "file_extension": ".py",
   "mimetype": "text/x-python",
   "name": "python",
   "nbconvert_exporter": "python",
   "pygments_lexer": "ipython3",
   "version": "3.11.5"
  }
 },
 "nbformat": 4,
 "nbformat_minor": 5
}
