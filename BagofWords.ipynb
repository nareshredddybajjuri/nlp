{
 "cells": [
  {
   "cell_type": "code",
   "execution_count": 1,
   "id": "9eb16145-b3c5-46fa-92a6-415389642327",
   "metadata": {},
   "outputs": [],
   "source": [
    "import nltk"
   ]
  },
  {
   "cell_type": "code",
   "execution_count": 7,
   "id": "ca25e513-c8a2-4e99-b372-7d285297a504",
   "metadata": {},
   "outputs": [],
   "source": [
    "paragraph = \"\"\"In a small, picturesque village nestled between towering mountains, the inhabitants led a tranquil life, relying on farming and weaving for their livelihood. Every morning, the farmers would head to the fields, tending to their crops with meticulous care, while the weavers sat by their looms, crafting intricate patterns into fabrics that were admired far and wide. Children played by the riverbank, their laughter echoing through the valley, as the elderly shared tales of their youth under the shade of ancient oak trees. The seasons shaped their routines, with spring bringing a burst of colors and activity, summer offering long days of work and warmth, autumn filling their granaries with the year's harvest, and winter inviting them to gather by the hearth, exchanging stories and songs. Despite the simplicity of their lives, the villagers felt a profound connection to the land and each other, finding joy and fulfillment in their everyday tasks and the rhythms of nature.\"\"\""
   ]
  },
  {
   "cell_type": "code",
   "execution_count": 8,
   "id": "19860018-47b6-4f7a-8cb4-935893bf7bcf",
   "metadata": {},
   "outputs": [],
   "source": [
    "import re\n",
    "from nltk.corpus import stopwords\n",
    "from nltk.stem.porter import PorterStemmer\n",
    "from nltk.stem import WordNetLemmatizer"
   ]
  },
  {
   "cell_type": "code",
   "execution_count": 9,
   "id": "ee0e728c-f92a-47e5-9120-804015c8c9a9",
   "metadata": {},
   "outputs": [],
   "source": [
    "stemmer = PorterStemmer()\n",
    "lemmatizer = WordNetLemmatizer()"
   ]
  },
  {
   "cell_type": "code",
   "execution_count": 10,
   "id": "fdfaa491-49fd-454c-9cb5-49dc2e9a9685",
   "metadata": {},
   "outputs": [],
   "source": [
    "sentences = nltk.sent_tokenize(paragraph)"
   ]
  },
  {
   "cell_type": "code",
   "execution_count": 11,
   "id": "3d753fc3-5fa2-46c2-813b-714d2068f7e8",
   "metadata": {},
   "outputs": [
    {
     "name": "stdout",
     "output_type": "stream",
     "text": [
      "In a small, picturesque village nestled between towering mountains, the inhabitants led a tranquil life, relying on farming and weaving for their livelihood.\n",
      "Every morning, the farmers would head to the fields, tending to their crops with meticulous care, while the weavers sat by their looms, crafting intricate patterns into fabrics that were admired far and wide.\n",
      "Children played by the riverbank, their laughter echoing through the valley, as the elderly shared tales of their youth under the shade of ancient oak trees.\n",
      "The seasons shaped their routines, with spring bringing a burst of colors and activity, summer offering long days of work and warmth, autumn filling their granaries with the year's harvest, and winter inviting them to gather by the hearth, exchanging stories and songs.\n",
      "Despite the simplicity of their lives, the villagers felt a profound connection to the land and each other, finding joy and fulfillment in their everyday tasks and the rhythms of nature.\n"
     ]
    }
   ],
   "source": [
    "for sentence in sentences:\n",
    "    print(sentence)"
   ]
  },
  {
   "cell_type": "code",
   "execution_count": 12,
   "id": "dcd23c3e-e9f9-4cc8-a2ae-e58359ea7c96",
   "metadata": {},
   "outputs": [
    {
     "data": {
      "text/plain": [
       "5"
      ]
     },
     "execution_count": 12,
     "metadata": {},
     "output_type": "execute_result"
    }
   ],
   "source": [
    "len(sentences)"
   ]
  },
  {
   "cell_type": "code",
   "execution_count": 15,
   "id": "ea7932ec-d090-4e2e-8f97-275046a92a20",
   "metadata": {},
   "outputs": [],
   "source": [
    "corpus = []"
   ]
  },
  {
   "cell_type": "code",
   "execution_count": 20,
   "id": "4a5448e4-a93a-4596-96c3-b6fbefd01309",
   "metadata": {},
   "outputs": [],
   "source": [
    "for i in range (len(sentences)):\n",
    "    review = re.sub('[^a-zA-Z]', ' ', sentences[i])\n",
    "    review = review.lower()\n",
    "    review = review.split()\n",
    "    review = [lemmatizer.lemmatize(word) for word in review if not word in set(stopwords.words('english'))]\n",
    "    review = ' '.join(review)\n",
    "    corpus.append(review)"
   ]
  },
  {
   "cell_type": "code",
   "execution_count": 21,
   "id": "01f424d3-3ea9-416b-9763-fea85964b22b",
   "metadata": {},
   "outputs": [
    {
     "name": "stdout",
     "output_type": "stream",
     "text": [
      "small picturesqu villag nestl tower mountain inhabit led tranquil life reli farm weav livelihood\n",
      "everi morn farmer would head field tend crop meticul care weaver sat loom craft intric pattern fabric admir far wide\n",
      "children play riverbank laughter echo valley elderli share tale youth shade ancient oak tree\n",
      "season shape routin spring bring burst color activ summer offer long day work warmth autumn fill granari year harvest winter invit gather hearth exchang stori song\n",
      "despit simplic live villag felt profound connect land find joy fulfil everyday task rhythm natur\n",
      "small picturesque village nestled towering mountain inhabitant led tranquil life relying farming weaving livelihood\n",
      "every morning farmer would head field tending crop meticulous care weaver sat loom crafting intricate pattern fabric admired far wide\n",
      "child played riverbank laughter echoing valley elderly shared tale youth shade ancient oak tree\n",
      "season shaped routine spring bringing burst color activity summer offering long day work warmth autumn filling granary year harvest winter inviting gather hearth exchanging story song\n",
      "despite simplicity life villager felt profound connection land finding joy fulfillment everyday task rhythm nature\n"
     ]
    }
   ],
   "source": [
    "for corp in corpus:\n",
    "    print(corp)"
   ]
  },
  {
   "cell_type": "code",
   "execution_count": 22,
   "id": "00f32652-6a26-4ae5-a41d-e677afc0609a",
   "metadata": {},
   "outputs": [],
   "source": [
    "from sklearn.feature_extraction.text import CountVectorizer\n",
    "cv = CountVectorizer()\n",
    "X = cv.fit_transform(corpus).toarray()"
   ]
  },
  {
   "cell_type": "code",
   "execution_count": 24,
   "id": "6555b3a3-2c65-45bb-b160-c52bf1178f16",
   "metadata": {},
   "outputs": [
    {
     "name": "stdout",
     "output_type": "stream",
     "text": [
      "[[0 0 0 ... 0 0 0]\n",
      " [0 0 1 ... 1 0 0]\n",
      " [0 0 0 ... 0 0 1]\n",
      " ...\n",
      " [0 0 0 ... 0 0 1]\n",
      " [0 1 0 ... 0 1 0]\n",
      " [0 0 0 ... 0 0 0]]\n"
     ]
    }
   ],
   "source": [
    "print(X)"
   ]
  },
  {
   "cell_type": "code",
   "execution_count": 28,
   "id": "e36db797-4ef6-4f43-b264-2f36b79b8806",
   "metadata": {},
   "outputs": [],
   "source": [
    "import pandas as pd"
   ]
  },
  {
   "cell_type": "code",
   "execution_count": 30,
   "id": "41ec1e76-ce04-43b4-b07b-e1a3af3f2f6a",
   "metadata": {},
   "outputs": [
    {
     "name": "stdout",
     "output_type": "stream",
     "text": [
      "    activ  activity  admir  admired  ancient  autumn  bring  bringing  burst  \\\n",
      "1       0         0      0        0        0       0      0         0      0   \n",
      "2       0         0      1        0        0       0      0         0      0   \n",
      "3       0         0      0        0        1       0      0         0      0   \n",
      "4       1         0      0        0        0       1      1         0      1   \n",
      "5       0         0      0        0        0       0      0         0      0   \n",
      "6       0         0      0        0        0       0      0         0      0   \n",
      "7       0         0      0        1        0       0      0         0      0   \n",
      "8       0         0      0        0        1       0      0         0      0   \n",
      "9       0         1      0        0        0       1      0         1      1   \n",
      "10      0         0      0        0        0       0      0         0      0   \n",
      "\n",
      "    care  ...  warmth  weav  weaver  weaving  wide  winter  work  would  year  \\\n",
      "1      0  ...       0     1       0        0     0       0     0      0     0   \n",
      "2      1  ...       0     0       1        0     1       0     0      1     0   \n",
      "3      0  ...       0     0       0        0     0       0     0      0     0   \n",
      "4      0  ...       1     0       0        0     0       1     1      0     1   \n",
      "5      0  ...       0     0       0        0     0       0     0      0     0   \n",
      "6      0  ...       0     0       0        1     0       0     0      0     0   \n",
      "7      1  ...       0     0       1        0     1       0     0      1     0   \n",
      "8      0  ...       0     0       0        0     0       0     0      0     0   \n",
      "9      0  ...       1     0       0        0     0       1     1      0     1   \n",
      "10     0  ...       0     0       0        0     0       0     0      0     0   \n",
      "\n",
      "    youth  \n",
      "1       0  \n",
      "2       0  \n",
      "3       1  \n",
      "4       0  \n",
      "5       0  \n",
      "6       0  \n",
      "7       0  \n",
      "8       1  \n",
      "9       0  \n",
      "10      0  \n",
      "\n",
      "[10 rows x 125 columns]\n"
     ]
    }
   ],
   "source": [
    "feature_names = cv.get_feature_names_out() \n",
    "df = pd.DataFrame(X, columns=feature_names, index=[f\" {i+1}\" for i in range(len(corpus))])\n",
    "print(df)"
   ]
  },
  {
   "cell_type": "code",
   "execution_count": null,
   "id": "849030a4-0e11-44af-a949-e5707acec1eb",
   "metadata": {},
   "outputs": [],
   "source": []
  }
 ],
 "metadata": {
  "kernelspec": {
   "display_name": "Python 3 (ipykernel)",
   "language": "python",
   "name": "python3"
  },
  "language_info": {
   "codemirror_mode": {
    "name": "ipython",
    "version": 3
   },
   "file_extension": ".py",
   "mimetype": "text/x-python",
   "name": "python",
   "nbconvert_exporter": "python",
   "pygments_lexer": "ipython3",
   "version": "3.11.5"
  }
 },
 "nbformat": 4,
 "nbformat_minor": 5
}
